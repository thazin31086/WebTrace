{
  "nbformat": 4,
  "nbformat_minor": 0,
  "metadata": {
    "colab": {
      "name": "Untitled6.ipynb",
      "provenance": [],
      "toc_visible": true,
      "machine_shape": "hm",
      "include_colab_link": true
    },
    "kernelspec": {
      "name": "python3",
      "display_name": "Python 3"
    }
  },
  "cells": [
    {
      "cell_type": "markdown",
      "metadata": {
        "id": "view-in-github",
        "colab_type": "text"
      },
      "source": [
        "<a href=\"https://colab.research.google.com/github/thazin31086/WebTrace/blob/master/UniversalSentenceEncoderRoslyn.ipynb\" target=\"_parent\"><img src=\"https://colab.research.google.com/assets/colab-badge.svg\" alt=\"Open In Colab\"/></a>"
      ]
    },
    {
      "cell_type": "code",
      "metadata": {
        "id": "3xIbLyam6PAj",
        "colab_type": "code",
        "outputId": "b9bdd514-cd3a-492b-e7c7-44a87e445e7c",
        "colab": {
          "base_uri": "https://localhost:8080/",
          "height": 51
        }
      },
      "source": [
        "import tensorflow as tf\n",
        "import tensorflow_hub as hub\n",
        "import pandas as pd\n",
        "import keras\n",
        "import numpy as np\n",
        "import re\n",
        "\n",
        "from sklearn import preprocessing\n",
        "\n",
        "\n",
        "url = \"https://tfhub.dev/google/universal-sentence-encoder-large/3\"\n",
        "embed = hub.Module(url)\n",
        "\n",
        "data = pd.read_csv('IssueDetailsRoslyn.csv')\n",
        "\n",
        "y = list(data['Label']) \n",
        "x = list(data['Title']) \n",
        "\n",
        "\n",
        "#Clean Title \n",
        "for title in x:\n",
        "    re.sub(\"[^a-zA-Z]+\", \"\", title)\n",
        "\n",
        "le = preprocessing.LabelEncoder()\n",
        "le.fit(y)\n",
        "\n",
        "\n",
        "categories = list(set(y))\n",
        "\n",
        "def encode(le, labels):\n",
        "    enc = le.transform(labels)\n",
        "    return keras.utils.to_categorical(enc)\n",
        "\n",
        "def decode(le, one_hot):\n",
        "    dec = np.argmax(one_hot, axis=1)\n",
        "    return le.inverse_transform(dec)\n",
        "\n",
        "test = encode(le,categories)\n",
        "\n",
        "untest = decode(le, test)\n",
        "\n",
        "\n",
        "x_enc = x\n",
        "y_enc = encode(le, y)\n",
        "\n",
        "x_train = np.asarray(x_enc[0:900])\n",
        "y_train = np.asarray(y_enc[0:900])\n",
        "\n",
        "x_test = np.asarray(x_enc[0:200])\n",
        "y_test = np.asarray(y_enc[0:200])\n",
        "\n",
        "len(x_train)\n",
        "\n",
        "#average_length = np.mean([len(x) for x in x_train])\n",
        "#median_length = sorted([len(x) for x in x_train])[len(x_train) // 2]\n",
        "\n",
        "#print(\"Average sequence length\",average_length)\n",
        "#print(\"Median sequence length\",median_length)\n",
        "\n",
        "max_sequence_length = 180\n",
        "\n",
        "\n",
        "from keras.layers import Input, Lambda, Dense\n",
        "from keras.models import Model\n",
        "import keras.backend as K\n",
        "\n",
        "def UniversalEmbedding(x):\n",
        "    return embed(tf.squeeze(tf.cast(x, tf.string)))\n",
        "\n",
        "\n",
        "input_text = Input(shape=(1,), dtype=tf.string)\n",
        "embedding = Lambda(UniversalEmbedding, output_shape=(512, ))(input_text)\n",
        "dense = Dense(256, activation='relu')(embedding)\n",
        "pred = Dense(len(categories), activation='softmax')(dense)\n",
        "model = Model(inputs=[input_text], outputs=pred)\n",
        "model.compile(loss='categorical_crossentropy', optimizer='adam', metrics=['accuracy'])\n",
        "\n"
      ],
      "execution_count": 20,
      "outputs": [
        {
          "output_type": "stream",
          "text": [
            "INFO:tensorflow:Saver not created because there are no variables in the graph to restore\n"
          ],
          "name": "stdout"
        },
        {
          "output_type": "stream",
          "text": [
            "INFO:tensorflow:Saver not created because there are no variables in the graph to restore\n"
          ],
          "name": "stderr"
        }
      ]
    },
    {
      "cell_type": "code",
      "metadata": {
        "id": "f1sHQhboHekz",
        "colab_type": "code",
        "outputId": "7fdc9b2a-b269-4d03-e5ba-f1100b9ce2fe",
        "colab": {
          "base_uri": "https://localhost:8080/",
          "height": 1000
        }
      },
      "source": [
        "max_sequence_length = 512\n",
        "\n",
        "from keras.preprocessing import sequence\n",
        "\n",
        "with tf.Session() as session:\n",
        "    K.set_session(session)\n",
        "    session.run(tf.global_variables_initializer())  \n",
        "    session.run(tf.tables_initializer())\n",
        "    history = model.fit(x_train, y_train, epochs=30, batch_size=32)\n",
        "    model.save_weights('./model.h5')"
      ],
      "execution_count": 25,
      "outputs": [
        {
          "output_type": "stream",
          "text": [
            "Epoch 1/30\n",
            "900/900 [==============================] - 11s 12ms/step - loss: 5.1267 - acc: 0.1778\n",
            "Epoch 2/30\n",
            "900/900 [==============================] - 6s 7ms/step - loss: 3.8747 - acc: 0.2322\n",
            "Epoch 3/30\n",
            "900/900 [==============================] - 7s 7ms/step - loss: 3.5015 - acc: 0.3467\n",
            "Epoch 4/30\n",
            "900/900 [==============================] - 7s 8ms/step - loss: 3.3069 - acc: 0.3500\n",
            "Epoch 5/30\n",
            "900/900 [==============================] - 7s 7ms/step - loss: 3.1516 - acc: 0.3678\n",
            "Epoch 6/30\n",
            "900/900 [==============================] - 7s 8ms/step - loss: 3.0168 - acc: 0.3711\n",
            "Epoch 7/30\n",
            "900/900 [==============================] - 7s 7ms/step - loss: 2.8825 - acc: 0.3722\n",
            "Epoch 8/30\n",
            "900/900 [==============================] - 7s 7ms/step - loss: 2.7583 - acc: 0.3844\n",
            "Epoch 9/30\n",
            "900/900 [==============================] - 7s 8ms/step - loss: 2.6330 - acc: 0.4011\n",
            "Epoch 10/30\n",
            "900/900 [==============================] - 7s 7ms/step - loss: 2.5071 - acc: 0.4078\n",
            "Epoch 11/30\n",
            "900/900 [==============================] - 6s 7ms/step - loss: 2.3856 - acc: 0.4356\n",
            "Epoch 12/30\n",
            "900/900 [==============================] - 6s 7ms/step - loss: 2.2709 - acc: 0.4467\n",
            "Epoch 13/30\n",
            "900/900 [==============================] - 7s 7ms/step - loss: 2.1481 - acc: 0.4689\n",
            "Epoch 14/30\n",
            "900/900 [==============================] - 7s 7ms/step - loss: 2.0319 - acc: 0.4867\n",
            "Epoch 15/30\n",
            "900/900 [==============================] - 7s 7ms/step - loss: 1.9255 - acc: 0.5000\n",
            "Epoch 16/30\n",
            "900/900 [==============================] - 6s 7ms/step - loss: 1.8169 - acc: 0.5300\n",
            "Epoch 17/30\n",
            "900/900 [==============================] - 7s 7ms/step - loss: 1.7158 - acc: 0.5644\n",
            "Epoch 18/30\n",
            "900/900 [==============================] - 7s 7ms/step - loss: 1.6168 - acc: 0.5878\n",
            "Epoch 19/30\n",
            "900/900 [==============================] - 6s 7ms/step - loss: 1.5346 - acc: 0.6033\n",
            "Epoch 20/30\n",
            "900/900 [==============================] - 6s 7ms/step - loss: 1.4493 - acc: 0.6400\n",
            "Epoch 21/30\n",
            "900/900 [==============================] - 7s 8ms/step - loss: 1.3704 - acc: 0.6533\n",
            "Epoch 22/30\n",
            "900/900 [==============================] - 7s 7ms/step - loss: 1.3026 - acc: 0.6711\n",
            "Epoch 23/30\n",
            "900/900 [==============================] - 8s 9ms/step - loss: 1.2280 - acc: 0.7056\n",
            "Epoch 24/30\n",
            "900/900 [==============================] - 6s 7ms/step - loss: 1.1675 - acc: 0.7322\n",
            "Epoch 25/30\n",
            "900/900 [==============================] - 6s 7ms/step - loss: 1.1079 - acc: 0.7378\n",
            "Epoch 26/30\n",
            "900/900 [==============================] - 6s 7ms/step - loss: 1.0553 - acc: 0.7622\n",
            "Epoch 27/30\n",
            "900/900 [==============================] - 6s 7ms/step - loss: 1.0111 - acc: 0.7711\n",
            "Epoch 28/30\n",
            "900/900 [==============================] - 6s 7ms/step - loss: 0.9673 - acc: 0.7900\n",
            "Epoch 29/30\n",
            "900/900 [==============================] - 6s 7ms/step - loss: 0.9317 - acc: 0.7989\n",
            "Epoch 30/30\n",
            "900/900 [==============================] - 6s 7ms/step - loss: 0.8894 - acc: 0.7967\n"
          ],
          "name": "stdout"
        }
      ]
    },
    {
      "cell_type": "code",
      "metadata": {
        "id": "F3ZA03mYTVn8",
        "colab_type": "code",
        "colab": {
          "base_uri": "https://localhost:8080/",
          "height": 34
        },
        "outputId": "e40b932f-7b64-4e6a-c07b-561279eb00a1"
      },
      "source": [
        "len(x)\n"
      ],
      "execution_count": 32,
      "outputs": [
        {
          "output_type": "execute_result",
          "data": {
            "text/plain": [
              "1201"
            ]
          },
          "metadata": {
            "tags": []
          },
          "execution_count": 32
        }
      ]
    },
    {
      "cell_type": "code",
      "metadata": {
        "id": "bNG02At0yGXV",
        "colab_type": "code",
        "colab": {
          "base_uri": "https://localhost:8080/",
          "height": 1000
        },
        "outputId": "8eae220c-686c-4d26-f2fd-4ccc825e06d7"
      },
      "source": [
        "x_test = np.asarray(x_enc[0:200])\n",
        "y_test = np.asarray(y_enc[0:200])\n",
        "\n",
        "len(x_test)\n",
        "\n",
        "with tf.Session() as session:\n",
        "    K.set_session(session)\n",
        "    session.run(tf.global_variables_initializer())\n",
        "    session.run(tf.tables_initializer())\n",
        "    model.load_weights('./model.h5')  \n",
        "    predicts = model.predict(x_test, batch_size=32)\n",
        "\n",
        "    \n",
        "y_test = decode(le, y_test)\n",
        "y_preds = decode(le, predicts)\n",
        "\n",
        "from sklearn import metrics\n",
        "\n",
        "metrics.confusion_matrix(y_test, y_preds)\n",
        "\n",
        "print(metrics.classification_report(y_test, y_preds))"
      ],
      "execution_count": 35,
      "outputs": [
        {
          "output_type": "stream",
          "text": [
            "                                                                                                                             precision    recall  f1-score   support\n",
            "\n",
            "                                                                                                                          \r       1.00      1.00      1.00         3\n",
            "                                                 4 - In Review|Area-IDE|Bug|New Language Feature - Nullable Reference Types       0.00      0.00      0.00         0\n",
            "                                                                                     4 - In Review|Area-IDE|Feature Request       1.00      1.00      1.00         1\n",
            "                                                                                Approved to merge|Area-IDE|Area-Interactive       1.00      1.00      1.00         1\n",
            "                                                                                              Area-Analyzers|Area-Compilers       0.80      0.80      0.80         5\n",
            "                                                                          Area-Analyzers|Area-Compilers|Concept-Design Debt       1.00      1.00      1.00         1\n",
            "                                                                                             Area-Analyzers|Feature Request       1.00      0.50      0.67         2\n",
            "                                                                        Area-Analyzers|Feature Request|Resolution-By Design       1.00      1.00      1.00         1\n",
            "                                                                                                             Area-Compilers       0.89      0.92      0.90        36\n",
            "                                                                                                    Area-Compilers|Area-IDE       1.00      1.00      1.00         1\n",
            "                                                                                                     Area-Compilers|Blocked       1.00      1.00      1.00        21\n",
            "                                                                                                         Area-Compilers|Bug       1.00      1.00      1.00         1\n",
            "                                                                                     Area-Compilers|Bug|Concept-Determinism       1.00      1.00      1.00         1\n",
            "                                                                             Area-Compilers|Bug|PR For Personal Review Only       1.00      1.00      1.00         1\n",
            "                                                                                                    Area-Compilers|Bug|Test       1.00      1.00      1.00         1\n",
            "                                                                                                   Area-Compilers|Community       0.60      0.90      0.72        10\n",
            "                                                                                              Area-Compilers|Community|Test       1.00      1.00      1.00         1\n",
            "                                                            Area-Compilers|Concept-Continuous Improvement|Tenet-Performance       1.00      1.00      1.00         1\n",
            "                                                                                         Area-Compilers|Concept-Determinism       1.00      1.00      1.00         1\n",
            "                                                                                               Area-Compilers|Documentation       1.00      1.00      1.00         2\n",
            "                        Area-Compilers|Feature Request|New Language Feature - Nullable Reference Types|Resolution-Duplicate       1.00      1.00      1.00         1\n",
            "                                                   Area-Compilers|Language-C#|New Language Feature - Default Interface Impl       1.00      1.00      1.00         2\n",
            "                                                                       Area-Compilers|Language-VB|Test|Test-Gap|help wanted       1.00      1.00      1.00         1\n",
            "                                                             Area-Compilers|New Language Feature - Nullable Reference Types       1.00      1.00      1.00         1\n",
            "                                                        Area-Compilers|New Language Feature - Nullable Reference Types|Test       1.00      1.00      1.00         1\n",
            "                                                              Area-Compilers|New Language Feature - Nullable Semantic Model       1.00      1.00      1.00         1\n",
            "                                                                     Area-Compilers|New Language Feature - Pattern Matching       1.00      1.00      1.00         1\n",
            "                                                                       Area-Compilers|New Language Feature - enhanced using       1.00      1.00      1.00         1\n",
            "                                                                                Area-Compilers|Question|Resolution-Answered       1.00      1.00      1.00         1\n",
            "                                                                                                        Area-Compilers|Test       1.00      1.00      1.00         3\n",
            "                                                                                                                   Area-IDE       0.88      0.91      0.89        23\n",
            "                                                                                                 Area-IDE|Blocked|Community       1.00      1.00      1.00         1\n",
            "                                                                                                               Area-IDE|Bug       0.00      0.00      0.00         1\n",
            "                                                                                  Area-IDE|Bug|IDE-IntelliSense|help wanted       1.00      1.00      1.00         1\n",
            "                                                                                                         Area-IDE|Community       0.89      0.77      0.83        22\n",
            "                                                                             Area-IDE|Community|PR For Personal Review Only       1.00      1.00      1.00         1\n",
            "                                                                                                       Area-IDE|Concept-API       1.00      1.00      1.00         1\n",
            "                                                                                    Area-IDE|Concept-Continuous Improvement       1.00      1.00      1.00         1\n",
            "                                                          Area-IDE|Concept-Continuous Improvement|IDE-CodeStyle|help wanted       1.00      1.00      1.00         1\n",
            "                                                                                                     Area-IDE|Documentation       1.00      1.00      1.00         1\n",
            "                                                                                                   Area-IDE|Feature Request       1.00      1.00      1.00         1\n",
            "                                                               Area-IDE|Feature Request|IDE-IntelliSense|Need Design Review       1.00      1.00      1.00         1\n",
            "                                                                                                  Area-IDE|IDE-IntelliSense       1.00      0.75      0.86         4\n",
            "                                                                   Area-IDE|New Language Feature - Nullable Reference Types       1.00      1.00      1.00         1\n",
            "                                                                                       Area-IDE|PR For Personal Review Only       1.00      1.00      1.00         1\n",
            "                                                                                                   Area-IDE|Tenet-Telemetry       1.00      1.00      1.00         1\n",
            "                                                                                                        Area-Infrastructure       0.84      0.89      0.86        18\n",
            "                                                                                              Area-Infrastructure|Community       1.00      0.50      0.67         4\n",
            "                                                                           Area-Infrastructure|Contributor Pain|help wanted       1.00      1.00      1.00         1\n",
            "                                                                 Area-Infrastructure|Disabled Test|New Feature - IOperation       1.00      1.00      1.00         1\n",
            "                                                                                           Area-Infrastructure|Source-Build       1.00      1.00      1.00         1\n",
            "                                                                                                  Area-Infrastructure|Story       1.00      1.00      1.00         1\n",
            "                                                                                                   Area-Infrastructure|Test       1.00      1.00      1.00         1\n",
            "                                                                                           Area-Infrastructure|Urgency-Soon       0.00      0.00      0.00         1\n",
            "                                                                                             Area-Infrastructure|auto-merge       0.00      0.00      0.00         0\n",
            "Area-Interactive|Concept-Continuous Improvement|Interactive-EnC|New Language Feature - Nullable Reference Types|help wanted       1.00      1.00      1.00         1\n",
            "                                                                                                                  Community       0.00      0.00      0.00         1\n",
            "                                                                                            Community|Interactive-Debugging       1.00      1.00      1.00         1\n",
            "                                                                                                PR For Personal Review Only       1.00      1.00      1.00         3\n",
            "\n",
            "                                                                                                                   accuracy                           0.90       200\n",
            "                                                                                                                  macro avg       0.90      0.88      0.88       200\n",
            "                                                                                                               weighted avg       0.90      0.90      0.89       200\n",
            "\n"
          ],
          "name": "stdout"
        },
        {
          "output_type": "stream",
          "text": [
            "/usr/local/lib/python3.6/dist-packages/sklearn/metrics/classification.py:1437: UndefinedMetricWarning: Precision and F-score are ill-defined and being set to 0.0 in labels with no predicted samples.\n",
            "  'precision', 'predicted', average, warn_for)\n",
            "/usr/local/lib/python3.6/dist-packages/sklearn/metrics/classification.py:1439: UndefinedMetricWarning: Recall and F-score are ill-defined and being set to 0.0 in labels with no true samples.\n",
            "  'recall', 'true', average, warn_for)\n"
          ],
          "name": "stderr"
        }
      ]
    },
    {
      "cell_type": "code",
      "metadata": {
        "id": "S0QmwN-cXH-r",
        "colab_type": "code",
        "colab": {}
      },
      "source": [
        ""
      ],
      "execution_count": 0,
      "outputs": []
    },
    {
      "cell_type": "markdown",
      "metadata": {
        "id": "pckCKEEe6q4g",
        "colab_type": "text"
      },
      "source": [
        "# New Section"
      ]
    }
  ]
}