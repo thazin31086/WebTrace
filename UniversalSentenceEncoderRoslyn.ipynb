{
  "nbformat": 4,
  "nbformat_minor": 0,
  "metadata": {
    "colab": {
      "name": "Untitled6.ipynb",
      "provenance": [],
      "toc_visible": true,
      "include_colab_link": true
    },
    "kernelspec": {
      "name": "python3",
      "display_name": "Python 3"
    }
  },
  "cells": [
    {
      "cell_type": "markdown",
      "metadata": {
        "id": "view-in-github",
        "colab_type": "text"
      },
      "source": [
        "<a href=\"https://colab.research.google.com/github/thazin31086/WebTrace/blob/master/UniversalSentenceEncoderRoslyn.ipynb\" target=\"_parent\"><img src=\"https://colab.research.google.com/assets/colab-badge.svg\" alt=\"Open In Colab\"/></a>"
      ]
    },
    {
      "cell_type": "code",
      "metadata": {
        "id": "3xIbLyam6PAj",
        "colab_type": "code",
        "outputId": "1fccef2f-04e9-4556-97ab-fb477cf22fb9",
        "colab": {
          "base_uri": "https://localhost:8080/",
          "height": 394
        }
      },
      "source": [
        "import tensorflow as tf\n",
        "import tensorflow_hub as hub\n",
        "import pandas as pd\n",
        "from sklearn import preprocessing\n",
        "import keras\n",
        "import numpy as np\n",
        "\n",
        "url = \"https://tfhub.dev/google/universal-sentence-encoder-large/3\"\n",
        "embed = hub.Module(url)\n",
        "\n",
        "data = pd.read_csv('SVF.csv')\n",
        "\n",
        "y = list(data['label']) \n",
        "x = list(data['Title']) \n",
        "\n",
        "le = preprocessing.LabelEncoder()\n",
        "le.fit(y)\n",
        "\n",
        "categories = list(set(y))\n",
        "\n",
        "def encode(le, labels):\n",
        "    enc = le.transform(labels)\n",
        "    return keras.utils.to_categorical(enc)\n",
        "\n",
        "def decode(le, one_hot):\n",
        "    dec = np.argmax(one_hot, axis=1)\n",
        "    return le.inverse_transform(dec)\n",
        "\n",
        "test = encode(le,categories)\n",
        "\n",
        "untest = decode(le, test)\n",
        "\n",
        "\n",
        "x_enc = x\n",
        "y_enc = encode(le, y)\n",
        "\n",
        "x_train = np.asarray(x_enc[:40])\n",
        "y_train = np.asarray(y_enc[:40])\n",
        "\n",
        "x_test = np.asarray(x_enc[10:])\n",
        "y_test = np.asarray(y_enc[10:])\n",
        "\n",
        "from keras.layers import Input, Lambda, Dense\n",
        "from keras.models import Model\n",
        "import keras.backend as K\n",
        "\n",
        "def UniversalEmbedding(x):\n",
        "    return embed(tf.squeeze(tf.cast(x, tf.string)))\n",
        "\n",
        "\n",
        "input_text = Input(shape=(1,), dtype=tf.string)\n",
        "embedding = Lambda(UniversalEmbedding, output_shape=(512, ))(input_text)\n",
        "dense = Dense(256, activation='relu')(embedding)\n",
        "pred = Dense(len(categories), activation='softmax')(dense)\n",
        "model = Model(inputs=[input_text], outputs=pred)\n",
        "model.compile(loss='categorical_crossentropy', optimizer='adam', metrics=['accuracy'])\n",
        "\n",
        "\n",
        "with tf.Session() as session:\n",
        "    K.set_session(session)\n",
        "    session.run(tf.global_variables_initializer())  \n",
        "    session.run(tf.tables_initializer())\n",
        "    history = model.fit(x_train, y_train, epochs=3, batch_size=32)\n",
        "    model.save_weights('./model.h5')\n",
        "    \n",
        "with tf.Session() as session:\n",
        "    K.set_session(session)\n",
        "    session.run(tf.global_variables_initializer())\n",
        "    session.run(tf.tables_initializer())\n",
        "    model.load_weights('./model.h5')  \n",
        "    predicts = model.predict(x_test, batch_size=32)\n",
        "\n",
        "    \n",
        "y_test = decode(le, y_test)\n",
        "y_preds = decode(le, predicts)\n",
        "\n",
        "from sklearn import metrics\n",
        "\n",
        "metrics.confusion_matrix(y_test, y_preds)\n",
        "\n",
        "print(metrics.classification_report(y_test, y_preds))"
      ],
      "execution_count": 0,
      "outputs": [
        {
          "output_type": "stream",
          "text": [
            "INFO:tensorflow:Saver not created because there are no variables in the graph to restore\n"
          ],
          "name": "stdout"
        },
        {
          "output_type": "stream",
          "text": [
            "INFO:tensorflow:Saver not created because there are no variables in the graph to restore\n"
          ],
          "name": "stderr"
        },
        {
          "output_type": "stream",
          "text": [
            "Epoch 1/3\n",
            "40/40 [==============================] - 19s 478ms/step - loss: 1.3680 - acc: 0.3750\n",
            "Epoch 2/3\n",
            "40/40 [==============================] - 0s 12ms/step - loss: 1.2055 - acc: 0.8250\n",
            "Epoch 3/3\n",
            "40/40 [==============================] - 0s 11ms/step - loss: 1.0696 - acc: 0.8500\n",
            "                                  precision    recall  f1-score   support\n",
            "\n",
            "                        question       0.88      1.00      0.93        35\n",
            "            question|enhancement       0.00      0.00      0.00         3\n",
            "question|enhancement|help wanted       0.00      0.00      0.00         1\n",
            "            question|help wanted       0.00      0.00      0.00         1\n",
            "\n",
            "                        accuracy                           0.88        40\n",
            "                       macro avg       0.22      0.25      0.23        40\n",
            "                    weighted avg       0.77      0.88      0.82        40\n",
            "\n"
          ],
          "name": "stdout"
        },
        {
          "output_type": "stream",
          "text": [
            "/usr/local/lib/python3.6/dist-packages/sklearn/metrics/classification.py:1437: UndefinedMetricWarning: Precision and F-score are ill-defined and being set to 0.0 in labels with no predicted samples.\n",
            "  'precision', 'predicted', average, warn_for)\n"
          ],
          "name": "stderr"
        }
      ]
    },
    {
      "cell_type": "code",
      "metadata": {
        "id": "bNG02At0yGXV",
        "colab_type": "code",
        "colab": {}
      },
      "source": [
        ""
      ],
      "execution_count": 0,
      "outputs": []
    },
    {
      "cell_type": "markdown",
      "metadata": {
        "id": "pckCKEEe6q4g",
        "colab_type": "text"
      },
      "source": [
        "# New Section"
      ]
    }
  ]
}