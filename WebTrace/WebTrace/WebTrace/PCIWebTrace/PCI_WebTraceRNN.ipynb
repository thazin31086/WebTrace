{
 "cells": [
  {
   "cell_type": "code",
   "execution_count": 23,
   "metadata": {},
   "outputs": [
    {
     "data": {
      "text/plain": [
       "['Microsoft Access Driver (*.mdb, *.accdb)']"
      ]
     },
     "execution_count": 23,
     "metadata": {},
     "output_type": "execute_result"
    }
   ],
   "source": [
    "from __future__ import absolute_import\n",
    "from __future__ import division\n",
    "from __future__ import print_function\n",
    "import collections\n",
    "import math\n",
    "import os\n",
    "import random\n",
    "import zipfile\n",
    "import pyodbc\n",
    "import sys\n",
    "import re\n",
    "import preprocessor\n",
    "import tensorflow as tf\n",
    "\n",
    "[x for x in pyodbc.drivers() if x.startswith('Microsoft Access Driver')]"
   ]
  },
  {
   "cell_type": "code",
   "execution_count": 24,
   "metadata": {},
   "outputs": [],
   "source": [
    "def preprocess(paragraph):\n",
    "    #sentences = tokenizer.tokenize(paragraph)\n",
    "    sentences = string.split(paragraph, '\\n') \n",
    "   \n",
    "    return sentences"
   ]
  },
  {
   "cell_type": "code",
   "execution_count": 25,
   "metadata": {},
   "outputs": [],
   "source": [
    "def GetPullRequestWords():\n",
    "    words = []\n",
    "    conn_str = (r'Driver={Microsoft Access Driver (*.mdb, *.accdb)};'\n",
    "    r'DBQ=C:\\PhD\\Webtrace\\WebTrace\\WebTrace\\WebTrace\\PCIWebTrace\\PCIWebTrace.mdb;')\n",
    "    cnxn = pyodbc.connect(conn_str)\n",
    "   \n",
    "    crsr = cnxn.cursor()\n",
    "    sql = \"SELECT PullRequestDescription from PullRequest\"\n",
    "    crsr.execute(sql)\n",
    "    # show the result\n",
    "    result = crsr.fetchall();\n",
    "    for item in result:      \n",
    "        print(preprocessor.preprocessNoCamel(str(item)))\n",
    "        words.append(preprocessor.preprocessNoCamel(str(item)))\n",
    "    return words\n",
    "\n",
    "\n",
    "\n",
    "def ReadData():\n",
    "    Issues = []   \n",
    "    IssuesLength = []\n",
    "    PullRequests = []   \n",
    "    PullRequestsLength = []\n",
    "    VOCABULARY_SIZE = 100000\n",
    "    \n",
    "    conn_str = (r'Driver={Microsoft Access Driver (*.mdb, *.accdb)};'\n",
    "    r'DBQ=C:\\PhD\\Webtrace\\WebTrace\\WebTrace\\WebTrace\\PCIWebTrace\\PCIWebTrace.mdb;')\n",
    "    cnxn = pyodbc.connect(conn_str)\n",
    "   \n",
    "    crsr = cnxn.cursor()\n",
    "    issuesql = \"SELECT Description from Issue\"\n",
    "    crsr.execute(issuesql)\n",
    "    \n",
    "    # show the result    \n",
    "    result1 = crsr.fetchall();\n",
    "    for item in result1: \n",
    "        value = preprocessor.preprocessNoCamel(str(item))\n",
    "        Issues.append(value)\n",
    "        IssuesLength.append(len(value))\n",
    " \n",
    "    crsp = cnxn.cursor()\n",
    "    pullrequestsql = \"SELECT PullRequestDescription from PullRequest\"\n",
    "    crsp.execute(pullrequestsql)\n",
    "    \n",
    "    # show the result\n",
    "    result2 = crsp.fetchall();\n",
    "    for item in result2:      \n",
    "        value = preprocessor.preprocessNoCamel(str(item))\n",
    "        PullRequests.append(value)\n",
    "        PullRequestsLength.append(len(value))                            \n",
    "  \n",
    "    return Issues,IssuesLength,PullRequests,PullRequestsLength"
   ]
  }
 ],
 "metadata": {
  "kernelspec": {
   "display_name": "Python 3",
   "language": "python",
   "name": "python3"
  },
  "language_info": {
   "codemirror_mode": {
    "name": "ipython",
    "version": 3
   },
   "file_extension": ".py",
   "mimetype": "text/x-python",
   "name": "python",
   "nbconvert_exporter": "python",
   "pygments_lexer": "ipython3",
   "version": "3.7.3"
  }
 },
 "nbformat": 4,
 "nbformat_minor": 2
}
