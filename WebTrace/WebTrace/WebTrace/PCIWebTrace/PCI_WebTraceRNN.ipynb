{
 "cells": [
  {
   "cell_type": "code",
   "execution_count": 40,
   "metadata": {},
   "outputs": [
    {
     "data": {
      "text/plain": [
       "['Microsoft Access Driver (*.mdb, *.accdb)']"
      ]
     },
     "execution_count": 40,
     "metadata": {},
     "output_type": "execute_result"
    }
   ],
   "source": [
    "from __future__ import absolute_import\n",
    "from __future__ import division\n",
    "from __future__ import print_function\n",
    "import collections\n",
    "import math\n",
    "import os\n",
    "import random\n",
    "import zipfile\n",
    "import pyodbc\n",
    "import sys\n",
    "import re\n",
    "import preprocessor\n",
    "\n",
    "[x for x in pyodbc.drivers() if x.startswith('Microsoft Access Driver')]"
   ]
  },
  {
   "cell_type": "code",
   "execution_count": 41,
   "metadata": {},
   "outputs": [],
   "source": [
    "def preprocess(paragraph):\n",
    "    #sentences = tokenizer.tokenize(paragraph)\n",
    "    sentences = string.split(paragraph, '\\n') \n",
    "   \n",
    "    return sentences"
   ]
  },
  {
   "cell_type": "code",
   "execution_count": 42,
   "metadata": {},
   "outputs": [],
   "source": [
    "def read_words():\n",
    "    words = []\n",
    "    conn_str = (r'Driver={Microsoft Access Driver (*.mdb, *.accdb)};'\n",
    "    r'DBQ=C:\\PhD\\Webtrace\\WebTrace\\WebTrace\\WebTrace\\PCIWebTrace\\PCIWebTrace.mdb;')\n",
    "    cnxn = pyodbc.connect(conn_str)\n",
    "    #cnxn.setdecoding(pyodbc.SQL_CHAR, encoding='utf8')\n",
    "    #cnxn.setdecoding(pyodbc.SQL_WCHAR, encoding='utf8')\n",
    "   \n",
    "    crsr = cnxn.cursor()\n",
    "    sql = \"SELECT PullRequestDescription from PullRequest\"\n",
    "    crsr.execute(sql)\n",
    "    # show the result\n",
    "    result = crsr.fetchall();\n",
    "    for item in result:      \n",
    "        words.append(preprocessor.preprocessNoCamel(str(item)))\n",
    "    return words"
   ]
  },
  {
   "cell_type": "code",
   "execution_count": 43,
   "metadata": {},
   "outputs": [
    {
     "data": {
      "text/plain": [
       "402"
      ]
     },
     "execution_count": 43,
     "metadata": {},
     "output_type": "execute_result"
    }
   ],
   "source": [
    "vocabulary = read_words()\n",
    "len(vocabulary)"
   ]
  },
  {
   "cell_type": "code",
   "execution_count": null,
   "metadata": {},
   "outputs": [],
   "source": []
  },
  {
   "cell_type": "code",
   "execution_count": null,
   "metadata": {},
   "outputs": [],
   "source": []
  },
  {
   "cell_type": "code",
   "execution_count": null,
   "metadata": {},
   "outputs": [],
   "source": []
  },
  {
   "cell_type": "code",
   "execution_count": null,
   "metadata": {},
   "outputs": [],
   "source": []
  }
 ],
 "metadata": {
  "kernelspec": {
   "display_name": "Python 3",
   "language": "python",
   "name": "python3"
  },
  "language_info": {
   "codemirror_mode": {
    "name": "ipython",
    "version": 3
   },
   "file_extension": ".py",
   "mimetype": "text/x-python",
   "name": "python",
   "nbconvert_exporter": "python",
   "pygments_lexer": "ipython3",
   "version": "3.7.3"
  }
 },
 "nbformat": 4,
 "nbformat_minor": 2
}
