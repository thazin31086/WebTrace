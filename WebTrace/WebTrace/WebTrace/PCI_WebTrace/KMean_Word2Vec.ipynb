{
  "nbformat": 4,
  "nbformat_minor": 0,
  "metadata": {
    "colab": {
      "name": "KMean_Word2Vec.ipynb",
      "provenance": [],
      "collapsed_sections": []
    },
    "kernelspec": {
      "name": "python3",
      "display_name": "Python 3"
    }
  },
  "cells": [
    {
      "cell_type": "code",
      "metadata": {
        "id": "c6LlZyKiMFBl",
        "colab_type": "code",
        "colab": {
          "base_uri": "https://localhost:8080/",
          "height": 438
        },
        "outputId": "31201cd4-dc9e-485e-a149-8ed89535ced7"
      },
      "source": [
        "from gensim.models import Word2Vec\n",
        "  \n",
        "from nltk.cluster import KMeansClusterer\n",
        "import nltk\n",
        "import numpy as np \n",
        "  \n",
        "from sklearn import cluster\n",
        "from sklearn import metrics\n",
        "  \n",
        "# training data\n",
        "sentences = [\n",
        "    [\"Visual\", \"Studio\", \"2019\",\"crashing\", \"when\", \"click\", \"RMB\", \"on\", \"rule\", \"in\", \"Analyzers'\", \"dependencies\"],#https://github.com/dotnet/roslyn/issues/40720\n",
        "    [\"Avoid\", \"crash\", \"on\", \"concat\", \"on\", \"structs\", \"with\", \"ToString\", \"member\"], #https://github.com/dotnet/roslyn/pull/38860/commits\n",
        "    [\"Enum\", \"implicit\", \"cast\", \"to\", \"string\", \"fails\", \"when\", \"element\", \"is\", \"named\", \"ToString\"], #\"https://github.com/dotnet/roslyn/issues/40256\n",
        "    [\"Enum\", \"with\", \"ToString\", \"member\", \"crashes\", \"in\", \"string\", \"concatenation\"], #https://github.com/dotnet/roslyn/issues/38858   \n",
        "    [\"Crash\", \"on\", \"right\", \"click\", \"a\", \"Analyze\", \"rule\", \"in\", \"Solution-Explorer\"], #https://github.com/dotnet/roslyn/issues/36304\n",
        "    [\"Handle\", \"lazy\", \"loading\", \"of\", \"analyzer\", \"command\", \"handlers\"] #https://github.com/dotnet/roslyn/pull/36740\n",
        "]\n",
        " \n",
        "model = Word2Vec(sentences, min_count=1)\n",
        " \n",
        "  \n",
        "def sent_vectorizer(sent, model):\n",
        "    sent_vec =[]\n",
        "    numw = 0\n",
        "    for w in sent:\n",
        "        try:\n",
        "            if numw == 0:\n",
        "                sent_vec = model[w]\n",
        "            else:\n",
        "                sent_vec = np.add(sent_vec, model[w])\n",
        "            numw+=1\n",
        "        except:\n",
        "            pass\n",
        "     \n",
        "    return np.asarray(sent_vec) / numw\n",
        "  \n",
        "  \n",
        "X=[]\n",
        "for sentence in sentences:\n",
        "    X.append(sent_vectorizer(sentence, model))   \n",
        " \n",
        "print (\"========================\")\n",
        "\n",
        " \n",
        "  \n",
        " \n",
        "# note with some version you would need use this (without wv) \n",
        "#  model[model.vocab] \n",
        "#print (model[model.wv.vocab])\n",
        " #print (model.most_similar(positive=['lazy'], negative=[], topn=2))\n",
        "  \n",
        "  \n",
        " \n",
        "  \n",
        "  \n",
        "NUM_CLUSTERS=2\n",
        "kclusterer = KMeansClusterer(NUM_CLUSTERS, distance=nltk.cluster.util.cosine_distance, repeats=25)\n",
        "assigned_clusters = kclusterer.cluster(X, assign_clusters=True)\n",
        "#print (\"assigned_clusters  : \", assigned_clusters)\n",
        "  \n",
        "  \n",
        "for index, sentence in enumerate(sentences):    \n",
        "    print (str(assigned_clusters[index]) + \":\" + str(sentence))\n",
        "     \n",
        "kmeans = cluster.KMeans(n_clusters=NUM_CLUSTERS)\n",
        "kmeans.fit(X)\n",
        "\n",
        " \n",
        " \n",
        "from sklearn.manifold import TSNE\n",
        " \n",
        "model = TSNE(n_components=2, random_state=0)\n",
        "np.set_printoptions(suppress=True)\n",
        " \n",
        "Y=model.fit_transform(X)\n",
        " \n",
        " \n",
        "plt.scatter(Y[:, 0], Y[:, 1], c=assigned_clusters, s=290,alpha=.5)\n",
        " \n",
        " \n",
        "for j in range(len(sentences)):    \n",
        "   plt.annotate(assigned_clusters[j],xy=(Y[j][0], Y[j][1]),xytext=(0,0),textcoords='offset points')\n",
        "   #print (\"%s %s\" % (assigned_clusters[j],  sentences[j]))\n",
        " \n",
        " \n",
        "plt.show()"
      ],
      "execution_count": 16,
      "outputs": [
        {
          "output_type": "stream",
          "text": [
            "/usr/local/lib/python3.6/dist-packages/ipykernel_launcher.py:29: DeprecationWarning: Call to deprecated `__getitem__` (Method will be removed in 4.0.0, use self.wv.__getitem__() instead).\n",
            "/usr/local/lib/python3.6/dist-packages/ipykernel_launcher.py:31: DeprecationWarning: Call to deprecated `__getitem__` (Method will be removed in 4.0.0, use self.wv.__getitem__() instead).\n"
          ],
          "name": "stderr"
        },
        {
          "output_type": "stream",
          "text": [
            "========================\n",
            "1:['Visual', 'Studio', '2019', 'crashing', 'when', 'click', 'RMB', 'on', 'rule', 'in', \"Analyzers'\", 'dependencies']\n",
            "1:['Avoid', 'crash', 'on', 'concat', 'on', 'structs', 'with', 'ToString', 'member']\n",
            "0:['Enum', 'implicit', 'cast', 'to', 'string', 'fails', 'when', 'element', 'is', 'named', 'ToString']\n",
            "0:['Enum', 'with', 'ToString', 'member', 'crashes', 'in', 'string', 'concatenation']\n",
            "1:['Crash', 'on', 'right', 'click', 'a', 'Analyze', 'rule', 'in', 'Solution-Explorer']\n",
            "0:['Handle', 'lazy', 'loading', 'of', 'analyzer', 'command', 'handlers']\n"
          ],
          "name": "stdout"
        },
        {
          "output_type": "display_data",
          "data": {
            "image/png": "[encoded data removed]",
            "text/plain": [
              "<Figure size 432x288 with 1 Axes>"
            ]
          },
          "metadata": {
            "tags": []
          }
        }
      ]
    }
  ]
}