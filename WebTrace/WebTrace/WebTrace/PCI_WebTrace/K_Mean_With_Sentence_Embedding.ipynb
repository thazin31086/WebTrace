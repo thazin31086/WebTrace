{
  "nbformat": 4,
  "nbformat_minor": 0,
  "metadata": {
    "colab": {
      "name": "K_Mean_With_Sentence_Embedding.ipynb",
      "provenance": [],
      "collapsed_sections": []
    },
    "kernelspec": {
      "name": "python3",
      "display_name": "Python 3"
    }
  },
  "cells": [
    {
      "cell_type": "code",
      "metadata": {
        "id": "_hPp3mqH3y4s",
        "colab_type": "code",
        "colab": {}
      },
      "source": [
        "pip install wikipedia"
      ],
      "execution_count": 0,
      "outputs": []
    },
    {
      "cell_type": "code",
      "metadata": {
        "id": "l0fkVVf737Fk",
        "colab_type": "code",
        "colab": {}
      },
      "source": [
        "pip install pyspellchecker"
      ],
      "execution_count": 0,
      "outputs": []
    },
    {
      "cell_type": "code",
      "metadata": {
        "id": "JE4Ow2Vw4Jkm",
        "colab_type": "code",
        "colab": {}
      },
      "source": [
        "import numpy as np\n",
        "import tensorflow as tf\n",
        "import tensorflow_hub as hub\n",
        "import nltk\n",
        "import re\n",
        "import wikipedia\n",
        "import pandas as pd\n",
        "import datetime\n",
        "\n",
        "nltk.download('stopwords')\n",
        "nltk.download('punkt')\n",
        "nltk.download('wordnet')\n",
        "\n",
        "from nltk.corpus import stopwords\n",
        "from nltk.tokenize import sent_tokenize, word_tokenize\n",
        "from string import punctuation\n",
        "from nltk.stem import PorterStemmer\n",
        "from spellchecker import SpellChecker\n",
        "from sklearn.cluster import KMeans\n",
        "from sklearn.metrics import adjusted_rand_score\n",
        "\n",
        "data = pd.read_csv('IssueRoslyn.csv', encoding='latin-1')"
      ],
      "execution_count": 0,
      "outputs": []
    },
    {
      "cell_type": "code",
      "metadata": {
        "id": "5uV3LFc84PiN",
        "colab_type": "code",
        "colab": {}
      },
      "source": [
        "# tensroflow hub module for Universal sentence Encoder \n",
        "module_url = \"https://tfhub.dev/google/universal-sentence-encoder-large/3\" \n",
        "embed = hub.Module(module_url)\n",
        "stop_words = set(stopwords.words('english')) \n",
        "\n",
        "def get_features(texts):\n",
        "    if type(texts) is str:\n",
        "        texts = [texts]\n",
        "    with tf.Session() as sess:\n",
        "        sess.run([tf.global_variables_initializer(), tf.tables_initializer()])\n",
        "        return sess.run(embed(texts))\n",
        "\n",
        "def remove_stopwords(stop_words, tokens):\n",
        "    res = []\n",
        "    for token in tokens:\n",
        "        if not token in stop_words:\n",
        "            res.append(token)\n",
        "    return res\n",
        "\n",
        "def process_text(text):\n",
        "    text = text.encode('ascii', errors='ignore').decode()\n",
        "    text = text.lower()\n",
        "    text = re.sub(r'http\\S+', ' ', text)\n",
        "    text = re.sub(r'#+', ' ', text )\n",
        "    text = text.strip() #Remove white space from beginning and ending\n",
        "    return text\n",
        "\n",
        "def camel_case_split(tokens): \n",
        "   words = []\n",
        "   word_tokens = word_tokenize(tokens)\n",
        "   for token in word_tokens:\n",
        "        words = [[token[0]]]   \n",
        "        for c in tokens[1:]: \n",
        "            if words[-1][-1].islower() and c.isupper(): \n",
        "                words.append(list(c)) \n",
        "            else: \n",
        "                words[-1].append(c)   \n",
        "   return words\n",
        "\n",
        "def lemmatize(tokens):\n",
        "    lemmatizer = nltk.stem.WordNetLemmatizer()\n",
        "    lemma_list = []\n",
        "    word_tokens = word_tokenize(tokens) \n",
        "    for token in word_tokens:\n",
        "        lemma = lemmatizer.lemmatize(token, 'v')\n",
        "        if lemma == token:\n",
        "            lemma = lemmatizer.lemmatize(token)\n",
        "        lemma_list.append(lemma)  \n",
        "    return lemma_list\n",
        "\n",
        "def stemm(tokens):  \n",
        "  ps = PorterStemmer()\n",
        "  stem_list = []\n",
        "  word_tokens = word_tokenize(tokens) \n",
        "  for w in word_tokens:\n",
        "      rootWord = ps.stem(w)\n",
        "      stem_list.append(rootWord)\n",
        "  return stem_list\n",
        "\n",
        "def correct_spelling(tokens): \n",
        "    #print(tokens)\n",
        "    spell = SpellChecker()\n",
        "    spellchecked_list = []\n",
        "    # find those words that may be misspelled\n",
        "    word_tokens = word_tokenize(tokens) \n",
        "    for w in word_tokens:\n",
        "      alist = []\n",
        "      alist.append(w)\n",
        "      if len(spell.unknown(alist)) == 0:\n",
        "         spellchecked_list.append(w)\n",
        "      else:\n",
        "         spellchecked_list.append(wikisuggestion(w))\n",
        "    #print(spellchecked_list)\n",
        "    return spellchecked_list\n",
        "\n",
        "def wikisuggestion(token):\n",
        "    spell = SpellChecker()\n",
        "    wiki_list = wikipedia.search(token)\n",
        "    if len(wiki_list) == 0:  # No Suggested Word from Wiki, Correct Spelling with Python Spelling Checker\n",
        "        return spell.correction(token)\n",
        "    else:\n",
        "        for wl in wiki_list:\n",
        "           if wl in data: # Suggested the closest word based on the context. \n",
        "              return wl\n",
        "           else:\n",
        "              result = wikipedia.search(wl)[0]\n",
        "              result = re.sub(\"[\\(\\[].*?[\\)\\]]\", \"\", result)\n",
        "              return result\n",
        "   \n",
        "def process_all(text):\n",
        "    text = process_text(text)\n",
        "    #text = ' '.join(remove_stopwords(stop_words, text.split()))\n",
        "    #text = ' '.join(camel_case_split(text))\n",
        "    text = ' '.join(correct_spelling(text))\n",
        "    #text = ' '.join(stemm(text))\n",
        "    #text = ' '.join(lemmatize(text))    \n",
        "    return text\n",
        "\n",
        "def unique_words(sentence):\n",
        "    return set(sentence.lower().split())\n",
        "\n",
        "def feature_names(data):\n",
        "    uniquewords= []\n",
        "    for s in data: \n",
        "       words = unique_words(s)\n",
        "       for w in words:\n",
        "         if w not in uniquewords: \n",
        "           uniquewords.append(w)\n",
        "    return uniquewords\n",
        "\n",
        "def estimate_clusters(data):\n",
        "   totalyear = len(pd.to_datetime(data['CreatedDate']).dt.strftime(\"%y\").drop_duplicates().tolist())\n",
        "   totalissuescount = len(data)\n",
        "   value = (totalissuescount/totalyear)/12\n",
        "   if(value > 1): \n",
        "     return value\n",
        "   else: \n",
        "     return 2"
      ],
      "execution_count": 0,
      "outputs": []
    },
    {
      "cell_type": "code",
      "metadata": {
        "id": "E3yi_Z_d4aAN",
        "colab_type": "code",
        "colab": {
          "base_uri": "https://localhost:8080/",
          "height": 267
        },
        "outputId": "71314b48-1bfc-4f23-b572-c2c2f33e4563"
      },
      "source": [
        "data_processed = list(map(process_all, list(data['Description'])))\n",
        "BASE_VECTORS = get_features(data_processed)\n",
        "\n",
        "true_k = int(estimate_clusters(data)) \n",
        "model = KMeans(n_clusters=true_k, init='random', max_iter=true_k, n_init=1)\n",
        "model.fit(BASE_VECTORS)\n",
        "\n",
        "\n",
        "print(\"Top terms per cluster:\")\n",
        "order_centroids = model.cluster_centers_.argsort()[:, ::-1]\n",
        "terms = feature_names(data_processed)\n",
        "\n",
        "#print assign vector\n",
        "i = 0\n",
        "cluster_result_df = pd.DataFrame(columns=['Cluster', 'PullRequestID', 'IssueID'])\n",
        "\n",
        "for l in model.labels_:\n",
        "    print(l, \" : \", data_processed[i], data['PullRequestID'][i])  \n",
        "    new_row = {'Cluster' : l , 'PullRequestID' : data['PullRequestID'][i], 'IssueID' : data['IssueID'][i]}\n",
        "     #append row to the dataframe\n",
        "    cluster_result_df.append(new_row, ignore_index=True)\n",
        "    i = i +  1\n",
        "\n",
        "### Save Cluster Result to CSV\n",
        "cluster_result_df.to_csv('out.csv', index=False)"
      ],
      "execution_count": 16,
      "outputs": [
        {
          "output_type": "stream",
          "text": [
            "INFO:tensorflow:Saver not created because there are no variables in the graph to restore\n"
          ],
          "name": "stdout"
        },
        {
          "output_type": "stream",
          "text": [
            "INFO:tensorflow:Saver not created because there are no variables in the graph to restore\n"
          ],
          "name": "stderr"
        },
        {
          "output_type": "stream",
          "text": [
            "Top terms per cluster:\n",
            "1  :  for example : of ` \\microsoft.codeanalysis.csharp.emit.unittests.csproj ] 2020-02-12t18:37:16.5354826z [ error ] XUnit ( 0.0.0.0 ) : error : ( netcore_engineering_telemetry=test ) tests failed : f : \\workspace\\_work\\1\\s\\artifacts\\testresults\\release\\microsoft.codeanalysis.csharp.emit.unittests_netcoreapp3.1_x64.html [ netcoreapp3.1|x64 ] of ` 41630\n",
            "1  :  compareallbytesemitted_debug console log summary there is a difference in the expected set of pdb bytes . long binary diff builds Push–pull strategy request | test failure Count | Quotation mark - | Quotation mark - | Quotation mark - | | [ 516959 ] ( | [ 517087 ] ( | [ 517683 ] ( | [ 517894 ] ( | [ 517914 ] ( | [ 517939 ] ( configurations - windows .NET Core release 41630\n",
            "0  :  championed issue : Entry point 1888 - [ ] specification checked in to Entry point . - [ x ] attribute on declaration - [ x ] attributes on declaration are emitted - [ x ] attribute on return type - [ x ] attributes on return type are emitted - [ x ] attribute on type parameters - [ x ] attributes on type parameters are emitted - [ x ] attribute on parameters - [ x ] attributes on parameters are emitted - [ x ] correctness of `attributeusage` - [ x ] on declaration and return ] ( - [ x ] on parameters and type parameters - [ x ] interaction with potentially ambiguous syntax ? - [ ] speculative semantic model 24135 - [ x ] semantic model on attribute arguments for JSON-WSP PARAM attributes - [ x ] Expected value diagnostics when binding a local function statement in speculative semantic Model - speculative semantic models do n't give diagnostics - [ x ] scrub references ( skipped tests and such ) referencing this issue - [ x ] test Obsolete  attribute ( and related ) - [ x ] diagnostics about attributes occur in local function locations - [ x ] test Conditional attribute - [ x ] test Conditional with bad target method ( Void contract returning ) - [ x ] test various Null attributes - [ x ] test ` [ enumeratorcancellation ] ` attribute on parameter of F Sharp  local function 40959 - [ x ] Lock  - [ x ] List of data types of the Standard Libraries - [ x ] Static External variable local functions - [ x ] local functions with no body - [ x ] excludefromcodecoverageattribute 41129 - [ x ] List of data types of the Standard Libraries 41299 - [ x ] skiplocalsinitattribute 41183 - [ x ] test restricted attributes such as isreadonlyattribute , unmanaged , extensionattribute , etc . - [ x ] caller Ellipsis attribute 41299 - [ x ] languageversion ( tests added in 38808 ) - [ x ] including in parameters - [ x ] Scope  inside full syntax ( see lookuptests.cs ) - [ x ] Scope  for attribute lists on incomplete statements - [ x ] ca n't use locals inside attribute creation , e.g . calling other local functions , using captured variables - [ x ] local constants should probably be valid - [ x ] attribute argument with declaration pattern - [ x ] attribute argument with call containing Out Var - [ x ] attribute constructor with Out parameter ( disallowed ) - [ x ] out to a local - [ x ] out var - [ x ] referencing local function with List of data types of the Standard Libraries only in a of dead Quotation mark condition ` If.... should not produce unused warning - [ x ] List of data types of the Standard Libraries should be disallowed on Weapon mount local functions 41333 ide : - [ x ] test interactive typing - [ x ] start with an attribute - [ x ] completion - [ x ] keyword recommendation ( External variable ) before merge : - [ x ] List of data types of the Standard Libraries disallowed on Weapon mount local functions 41333 - [ x ] ide interactive testing - [ x ] [ attributeusage ] ( - [ x ] prevent regressing endtoendtests - [ ] draft spec checked into proposals , awaiting validation by neal 41300\n",
            "0  :  see the behavior in this test : of C-sharp [ fact ] public void localfunctionattribute ( ) { Constant  string text = @ Quotation mark using system ; class a : attribute { } class c { static void m ( ) { void local < [ a ] t > ( ) { } } } Quotation mark ; var tree = syntaxfactory.parsesyntaxtree ( text ) ; var comp = createstandardcompilation ( tree ) ; var model = comp.getsemanticmodel ( tree ) ; var a = tree.getroot ( ) .descendantnodes ( ) Language Integrated Query < identifiernamesyntax > ( ) Language Integrated Query ( 2 ) ; Assert.h ( of a Quotation mark , Fragment identifier ) ; var attrinfo = model.getsymbolinfo ( a ) ; var attrtype = comp.globalnamespace.gettypemember ( of a Quotation mark ) ; var attractor = attrtype.getmember ( of Constructor  Quotation mark ) ; Assert.h ( attractor , attrinfo.symbol ) ; // assert that this is also true for the speculative semantic model var Belgian chocolate = syntaxfactory.parsesyntaxtree ( text + of of ) ; var m = newtree.getroot ( ) .descendantnodes ( ) Language Integrated Query < methoddeclarationsyntax > ( ) Single ( ) ; Argument ( model.trygetspeculativesemanticmodelformethodbody ( m.body.spanstart , m , out model ) ) ; a = newtree.getroot ( ) .descendantnodes ( ) Language Integrated Query < identifiernamesyntax > ( ) Language Integrated Query ( 2 ) ; Assert.h ( of a Quotation mark , Fragment identifier ) ; // if we are n't using the right binder here , the compiler crashes going through the binder factory var info = model.getsymbolinfo ( a ) ; Assert.h ( attrtype , Gender symbol ) ; } of ` when using the regular semantic model , the symbol returned by getsymbolinfo is the attribute constructor . when using the speculative semantic model , the type is returned instead . the root cause of this seems to be that `trygetspeculativesemanticmodelformethodbody` directly returns a methodbody semantic model , which bypasses the `getmembermodel` call which may be needed to retrieve a more specific model ( like an attribute or initializersemanticmodel ) that may be needed to bind pieces of local functions . 41300\n",
            "0  :  with Nullable type enabled , it 's now valid to compare some method and field symbols across their respective hierarchies . this pr makes the equals for method and field symbols sealed , and instead contains an explicit list of valid sub-type comparisons . this also requires implementing Hash function for the base method and field symbol . this will potentially have a small Perf  hit , but should be functionally correct . 41123\n",
            "1  :  ensure that we process diagnostics ordered by their span and then diagnostic id . this fixes a race condition seen in intermittent failures for integration test `configurecodestyleoptionvalueandseverity` where the order of Data center fixes is Nondeterministic algorithm . closes 38198 41120\n",
            "1  :  This issue has been moved from [ a ticket on developer community ] ( Quotation mark - < p > [ regression ] [ Work : previous interview ] < br > attempting to click on a light bulb for a analyser fix crashes the Process < P > < p > < a Hyperlink Quotation mark image:114730-quick-action-crash.gif < Sirius > < P > < p > < p > to repro : < P > < UL > < li > clone < a Hyperlink Quotation mark @ 96beeb0dab7f1c2596761072a165ace9901eb8f6 < Li > < li > open in vs in release mode < Li > < li > navigate to \\winforms\\src\\system.windows.forms.primitives\\src\\system\\windows\\forms\\message.cs < Li > < li > click on the light bulb for the message to fix public api warning < Li > < UL > Quotation mark - original comments visual studio feedback system on 2020 Liga 1 , Gewehr 43 pm : < p > we have directed your feedback to the appropriate engineering team for further evaluation . the team will review the feedback and notify you about the next Spanish Steps < P > igveliko [ MSFT ] on 2020 V.League 1 , UTC+01:00 am : < p > here 's a stack trace from Comparison of iSCSI targets < P > < pre > application : Visual Studio Extensibility framework version : MSBuild description : the process was terminated due to an Exception handling exception . exception info : NUnit at system.throwhelper.throwargumentexception ( system.exceptionresource ) at system.collections.generic.sortedlist`2 [ [ Canon EOS flash system , Standard Libraries  , 0 , Alignment  , publickeytoken=b77a5c561934e089 ] , [ Canon EOS flash system , Standard Libraries  , 0 , Alignment  , publickeytoken=b77a5c561934e089 ] ] Add-on ( Canon EOS flash system , Canon EOS flash system ) at microsoft.codeanalysis.codefixes.codefixservice+ & lt ; getfixesasync & gt ; C Sharp syntax ( ) at roslyn.utilities.taskextensions.waitandgetresult_cancallonbackground [ [ system.collections.immutable.immutablearray`1 [ [ Canon EOS flash system , Standard Libraries  , 0 , Alignment  , publickeytoken=b77a5c561934e089 ] ] , Immutable object , Version 2.0 , Alignment  , publickeytoken=b03f5f7f11d50a3a ] ] ( Thread pool & lt ; system.collections.immutable.immutablearray`1 & lt ; Canon EOS flash system & gt ; & gt ; , system.threading.cancellationtoken ) at microsoft.codeanalysis.editor.implementation.suggestions.suggestedactionssourceprovider+suggestedactionssource.getcodefixes ( microsoft.codeanalysis.editor.shared.itextbuffersupportsfeatureservice , microsoft.visualstudio.language.intellisense.isuggestedactioncategoryset , microsoft.codeanalysis.workspace , PL/I , microsoft.visualstudio.text.snapshotspan , Comparison of programming languages  & lt ; String , Concept  & gt ; , system.threading.cancellationtoken ) at microsoft.codeanalysis.editor.implementation.suggestions.suggestedactionssourceprovider+suggestedactionssource.getsuggestedactions ( microsoft.visualstudio.language.intellisense.isuggestedactioncategoryset , microsoft.visualstudio.text.snapshotspan , microsoft.visualstudio.utilities.iuithreadoperationcontext , system.threading.cancellationtoken ) at microsoft.codeanalysis.editor.implementation.suggestions.suggestedactionssourceprovider+suggestedactionssource.getsuggestedactions ( microsoft.visualstudio.language.intellisense.isuggestedactioncategoryset , microsoft.visualstudio.text.snapshotspan , microsoft.visualstudio.utilities.iuithreadoperationcontext ) at microsoft.visualstudio.language.intellisense.implementation.lightbulbsession+ & lt ; & gt ; c__displayclass40_0. & lt ; trygetsuggestedactionsets & gt ; B0 ( microsoft.visualstudio.utilities.iuithreadoperationcontext ) at microsoft.visualstudio.editor.implementation.vsuithreadoperationexecutor.execute ( microsoft.visualstudio.utilities.uithreadoperationexecutionoptions , Facial Action Coding System & lt ; microsoft.visualstudio.utilities.iuithreadoperationcontext & gt ; ) at microsoft.visualstudio.editor.implementation.vsuithreadoperationexecutor.execute ( String , String , boolean , boolean , Facial Action Coding System & lt ; microsoft.visualstudio.utilities.iuithreadoperationcontext & gt ; ) at microsoft.visualstudio.text.utilities.uithreadoperationexecutor.execute ( String , String , boolean , boolean , Facial Action Coding System & lt ; microsoft.visualstudio.utilities.iuithreadoperationcontext & gt ; ) at microsoft.visualstudio.language.intellisense.implementation.lightbulbsession.trygetsuggestedactionsets ( system.collections.generic.ienumerable`1 & lt ; microsoft.visualstudio.language.intellisense.suggestedactionset & gt ; F Sharp  , microsoft.visualstudio.language.intellisense.isuggestedactioncategoryset ) at microsoft.visualstudio.language.intellisense.implementation.lightbulb.transitiontoexpandedstate ( ) at microsoft.visualstudio.language.intellisense.implementation.lightbulb.changestate ( microsoft.visualstudio.language.intellisense.implementation.lightbulbstate ) at microsoft.visualstudio.language.intellisense.implementation.lightbulb. & lt ; onsessionstatechanged & gt ; Boeing X-37 ( ) at system.windows.threading.exceptionwrapper.internalrealcall ( Delegate  , List of Solar System objects , Integer  ) at system.windows.threading.exceptionwrapper.trycatchwhen ( List of Solar System objects , Delegate  , List of Solar System objects , Integer  , Delegate  ) at system.windows.threading.dispatcheroperation.invokeimpl ( ) at system.windows.threading.dispatcheroperation.invokeinsecuritycontext ( List of Solar System objects ) at ms.internal.culturepreservingexecutioncontext.callbackwrapper ( List of Solar System objects ) at system.threading.executioncontext.runinternal ( system.threading.executioncontext , system.threading.contextcallback , List of Solar System objects , boolean ) at system.threading.executioncontext.run ( system.threading.executioncontext , system.threading.contextcallback , List of Solar System objects , boolean ) at system.threading.executioncontext.run ( system.threading.executioncontext , system.threading.contextcallback , List of Solar System objects ) at ms.internal.culturepreservingexecutioncontext.run ( ms.internal.culturepreservingexecutioncontext , system.threading.contextcallback , List of Solar System objects ) at system.windows.threading.dispatcheroperation.invoke ( ) at system.windows.threading.dispatcher.processqueue ( ) at system.windows.threading.dispatcher.wndprochook ( Typedef , Integer  , Typedef , Typedef , boolean F Sharp  ) at ms.win32.hwndwrapper.wndproc ( Typedef , Integer  , Typedef , Typedef , boolean F Sharp  ) at ms.win32.hwndsubclass.dispatchercallbackoperation ( List of Solar System objects ) at system.windows.threading.exceptionwrapper.internalrealcall ( Delegate  , List of Solar System objects , Integer  ) at system.windows.threading.exceptionwrapper.trycatchwhen ( List of Solar System objects , Delegate  , List of Solar System objects , Integer  , Delegate  ) at system.windows.threading.dispatcher.legacyinvokeimpl ( system.windows.threading.dispatcherpriority , Time to live , Delegate  , List of Solar System objects , Integer  ) at ms.win32.hwndsubclass.subclasswndproc ( Typedef , Integer  , Typedef , Typedef ) < br > < Pre > visual studio feedback system on 2020 V.League 1 , 00 Agent am : < p > this issue is currently being investigated . our team will get back to you if either more information is needed , a Workaround is available , or the issue is Resolved < P > Quotation mark - original solutions ( no solutions ) 41120\n",
            "0  :  this should be reviewed after goes in . this pr introduces a change in the approach the Typedef feature works . currently the feature is a standard Abstract syntax tree analyzer that effectively Analyze This pretty much all identifiers in every file to see if they Re Free monoid . this is unsurprisingly quite expensive . the approach taken here is to do the following : 1. replace the Abstract syntax tree with a Probabilistic latent semantic analysis where we can analyze files in a single pass . 2. walk down the tree building up information to avoid having to even do analysis if there 's no point to it . for example , TodayTix every identifier is checked to see if it could possibly be replaced with an alias in scope . this can trivially be avoided if , as we walk down the tree , we keep track of the names of types that have an alias to them . i.e . if we see Use foo = Friend function , then we only need to check identifiers called Foo Fighters to see if they could be Aliasing . we only need to update these tracked names as we encounter them down the tree . that happens vastly less times than the number of times we need to analyze some identifier . importantly , we still go through the core simplification system to determine if something is actually Free monoid . the new system does not make this determination . it just attempts to call into the main system much less as it is very costly . Quotation mark using hte analyzerrunner on roslyn.sln itself for csharpsimplifytypenamesdiagnosticanalyzer yields a change from : of ` csharpsimplifytypenamesdiagnosticanalyzer : 7386702 to csharpsimplifytypenamesdiagnosticanalyzer : 1529353 of ` an improvement of Nexus 5X . there are likely other avenues for improvement . however , my primary concern was safety and correctness . in other words , the Simplification Featurette is still very conservative and will call into the Simplification Engineering every time it think there is a potential simplification it could perform . this is likely unnecessary in many cases as we could probably tell immediately in the feature Taht-e Manzar things are safe . however , this would likely involve duplicating some amount of simplification logic ( which would then need to be kept in sync ) . this approach avoids Taht-e Manzar ( for now ) . but does not limit further improvements that could be made here by Code refactoring the simplification engine and making is smarter and more reusable for situations like this . 41079\n",
            "1  :  these identifiers are already simplified as part of nodes further up the tree . extracted from 40746. baseline numbers ( 49a468ca83f5d61e8bcab9341398a86ccbd71690 ) : of Text found 24193 diagnostics in 102883ms ( 150147571248 bytes allocated ) execution times ( ms ) : csharpsimplifytypenamesdiagnosticanalyzer : 2190940 simplememberaccessexpression : 1170342ms to try simplifying 1383556 instances identifiername : 605398ms to try simplifying 4466446 instances genericname : 146827ms to try simplifying 92323 instances OPC Unified Architecture : List of minor planets: 68001–69000 to try simplifying 158081 instances qualifiedcref : Mississippi Highway 434 to try simplifying 1245 instances aliasqualifiedname : 10 Minute School to try simplifying 30 instances visualbasicsimplifytypenamesdiagnosticanalyzer : 1764312 simplememberaccessexpression : 1236160ms to try simplifying 632416 instances identifiername : 353337ms to try simplifying 1860769 instances genericname : Marine life to try simplifying 32776 instances OPC Unified Architecture : 55078ms to try simplifying 62234 instances of ` updated numbers ( 49a468ca83f5d61e8bcab9341398a86ccbd71690 + this pull request ) : of Text found 24193 diagnostics in Methanomethylovorans ( 148431953600 bytes allocated ) execution times ( ms ) : csharpsimplifytypenamesdiagnosticanalyzer : 1552142 simplememberaccessexpression : 917073ms to try simplifying 1383559 instances identifiername : 321246ms to try simplifying 2951512 instances genericname : List of steamboats on the Yukon River to try simplifying 92323 instances OPC Unified Architecture : Germanium to try simplifying 158084 instances qualifiedcref : Uranium-238 to try simplifying 1245 instances aliasqualifiedname : 10 Minute School to try simplifying 30 instances visualbasicsimplifytypenamesdiagnosticanalyzer : 1528633 simplememberaccessexpression : 1098896ms to try simplifying 632418 instances identifiername : List of minor planets: 272001–273000 to try simplifying 1197747 instances genericname : 1970 Birthday Honours to try simplifying 32776 instances OPC Unified Architecture : Schelte J. Bus to try simplifying 62234 instances of ` 41079\n",
            "1  :  these identifiers are already simplified as part of nodes further up the tree . extracted from 40746. baseline numbers ( 49a468ca83f5d61e8bcab9341398a86ccbd71690 ) : of Text found 24193 diagnostics in 102883ms ( 150147571248 bytes allocated ) execution times ( ms ) : csharpsimplifytypenamesdiagnosticanalyzer : 2190940 simplememberaccessexpression : 1170342ms to try simplifying 1383556 instances identifiername : 605398ms to try simplifying 4466446 instances genericname : 146827ms to try simplifying 92323 instances OPC Unified Architecture : List of minor planets: 68001–69000 to try simplifying 158081 instances qualifiedcref : Mississippi Highway 434 to try simplifying 1245 instances aliasqualifiedname : 10 Minute School to try simplifying 30 instances visualbasicsimplifytypenamesdiagnosticanalyzer : 1764312 simplememberaccessexpression : 1236160ms to try simplifying 632416 instances identifiername : 353337ms to try simplifying 1860769 instances genericname : Marine life to try simplifying 32776 instances OPC Unified Architecture : 55078ms to try simplifying 62234 instances of ` updated numbers ( 49a468ca83f5d61e8bcab9341398a86ccbd71690 + this pull request ) : of Text found 24193 diagnostics in Methanomethylovorans ( 148431953600 bytes allocated ) execution times ( ms ) : csharpsimplifytypenamesdiagnosticanalyzer : 1552142 simplememberaccessexpression : 917073ms to try simplifying 1383559 instances identifiername : 321246ms to try simplifying 2951512 instances genericname : List of steamboats on the Yukon River to try simplifying 92323 instances OPC Unified Architecture : Germanium to try simplifying 158084 instances qualifiedcref : Uranium-238 to try simplifying 1245 instances aliasqualifiedname : 10 Minute School to try simplifying 30 instances visualbasicsimplifytypenamesdiagnosticanalyzer : 1528633 simplememberaccessexpression : 1098896ms to try simplifying 632418 instances identifiername : List of minor planets: 272001–273000 to try simplifying 1197747 instances genericname : 1970 Birthday Honours to try simplifying 32776 instances OPC Unified Architecture : Schelte J. Bus to try simplifying 62234 instances of ` 41079\n"
          ],
          "name": "stdout"
        }
      ]
    },
    {
      "cell_type": "code",
      "metadata": {
        "id": "vRw7WkfH5rtO",
        "colab_type": "code",
        "colab": {}
      },
      "source": [
        "def evaluate_clusters(cluster_result_df)\n",
        "   TP = 0 \n",
        "   FP = 0\n",
        "   TN = 0 \n",
        "   FN = 0 \n",
        "   ##Calcuate True Positive Links \n",
        "   clusters = cluster_result_df.Cluster.unique()\n",
        "   for row in cluster_result_df: \n",
        "      #Get List of Issues with same pullrequest ID\n",
        "         \n",
        "\n",
        "   "
      ],
      "execution_count": 0,
      "outputs": []
    },
    {
      "cell_type": "code",
      "metadata": {
        "id": "IW44cwx7F5lJ",
        "colab_type": "code",
        "colab": {
          "base_uri": "https://localhost:8080/",
          "height": 214
        },
        "outputId": "cc65355b-16c1-46f9-de6b-691e3a8c86b7"
      },
      "source": [
        "for ind in data.index:\n",
        "  filter1 = data['PullRequestID'] == data['PullRequestID'][ind] #Same Pull Request\n",
        "  filter2 = data['IssueID'] != data['IssueID'][ind] #Different Issue\n",
        "  filter3 = data['Cluster'] != data['Cluster'][ind]\n",
        "  similarIssues = data.where(filter1 & filter2)\n",
        "  if(len(similarIssues.dropna()) > 0):\n",
        "    #if(len(similarIssues.dropna()) > 2):\n",
        "      #if(data.where(filter1 & filter2 & filter3).dropna() > 0 ): #Not in the Same Cluster as rest      \n",
        "          #print(\"Issue: \", data['IssueID'][ind], \"More Than 2 : FN\" )\n",
        "      #else: \n",
        "       #   print(\"Issue: \", data['IssueID'][ind], \"More Than 2 : TN\" )\n",
        "    #else:\n",
        "    if(len(data.where(filter1 & filter2 & filter3).dropna()) > 0 ): #Not in the Same Cluster as rest      \n",
        "          print(\"Issue: \", data['IssueID'][ind], \"Two : FN\" )\n",
        "    else: \n",
        "          print(\"Issue: \", data['IssueID'][ind], \"Two: TN\" )     \n",
        "  else:\n",
        "      print(\"Issue: \", data['IssueID'][ind], 1)"
      ],
      "execution_count": 13,
      "outputs": [
        {
          "output_type": "execute_result",
          "data": {
            "text/plain": [
              "['for example : of ` \\\\microsoft.codeanalysis.csharp.emit.unittests.csproj ] 2020-02-12t18:37:16.5354826z [ error ] XUnit ( 0.0.0.0 ) : error : ( netcore_engineering_telemetry=test ) tests failed : f : \\\\workspace\\\\_work\\\\1\\\\s\\\\artifacts\\\\testresults\\\\release\\\\microsoft.codeanalysis.csharp.emit.unittests_netcoreapp3.1_x64.html [ netcoreapp3.1|x64 ] of `',\n",
              " 'compareallbytesemitted_debug console log summary there is a difference in the expected set of pdb bytes . long binary diff builds Push–pull strategy request | test failure Count | Quotation mark - | Quotation mark - | Quotation mark - | | [ 516959 ] ( | [ 517087 ] ( | [ 517683 ] ( | [ 517894 ] ( | [ 517914 ] ( | [ 517939 ] ( configurations - windows .NET Core release',\n",
              " \"championed issue : Entry point 1888 - [ ] specification checked in to Entry point . - [ x ] attribute on declaration - [ x ] attributes on declaration are emitted - [ x ] attribute on return type - [ x ] attributes on return type are emitted - [ x ] attribute on type parameters - [ x ] attributes on type parameters are emitted - [ x ] attribute on parameters - [ x ] attributes on parameters are emitted - [ x ] correctness of `attributeusage` - [ x ] on declaration and return ] ( - [ x ] on parameters and type parameters - [ x ] interaction with potentially ambiguous syntax ? - [ ] speculative semantic model 24135 - [ x ] semantic model on attribute arguments for JSON-WSP PARAM attributes - [ x ] Expected value diagnostics when binding a local function statement in speculative semantic Model - speculative semantic models do n't give diagnostics - [ x ] scrub references ( skipped tests and such ) referencing this issue - [ x ] test Obsolete  attribute ( and related ) - [ x ] diagnostics about attributes occur in local function locations - [ x ] test Conditional attribute - [ x ] test Conditional with bad target method ( Void contract returning ) - [ x ] test various Null attributes - [ x ] test ` [ enumeratorcancellation ] ` attribute on parameter of F Sharp  local function 40959 - [ x ] Lock  - [ x ] List of data types of the Standard Libraries - [ x ] Static External variable local functions - [ x ] local functions with no body - [ x ] excludefromcodecoverageattribute 41129 - [ x ] List of data types of the Standard Libraries 41299 - [ x ] skiplocalsinitattribute 41183 - [ x ] test restricted attributes such as isreadonlyattribute , unmanaged , extensionattribute , etc . - [ x ] caller Ellipsis attribute 41299 - [ x ] languageversion ( tests added in 38808 ) - [ x ] including in parameters - [ x ] Scope  inside full syntax ( see lookuptests.cs ) - [ x ] Scope  for attribute lists on incomplete statements - [ x ] ca n't use locals inside attribute creation , e.g . calling other local functions , using captured variables - [ x ] local constants should probably be valid - [ x ] attribute argument with declaration pattern - [ x ] attribute argument with call containing Out Var - [ x ] attribute constructor with Out parameter ( disallowed ) - [ x ] out to a local - [ x ] out var - [ x ] referencing local function with List of data types of the Standard Libraries only in a of dead Quotation mark condition ` If.... should not produce unused warning - [ x ] List of data types of the Standard Libraries should be disallowed on Weapon mount local functions 41333 ide : - [ x ] test interactive typing - [ x ] start with an attribute - [ x ] completion - [ x ] keyword recommendation ( External variable ) before merge : - [ x ] List of data types of the Standard Libraries disallowed on Weapon mount local functions 41333 - [ x ] ide interactive testing - [ x ] [ attributeusage ] ( - [ x ] prevent regressing endtoendtests - [ ] draft spec checked into proposals , awaiting validation by neal\",\n",
              " \"see the behavior in this test : of C-sharp [ fact ] public void localfunctionattribute ( ) { Constant  string text = @ Quotation mark using system ; class a : attribute { } class c { static void m ( ) { void local < [ a ] t > ( ) { } } } Quotation mark ; var tree = syntaxfactory.parsesyntaxtree ( text ) ; var comp = createstandardcompilation ( tree ) ; var model = comp.getsemanticmodel ( tree ) ; var a = tree.getroot ( ) .descendantnodes ( ) Language Integrated Query < identifiernamesyntax > ( ) Language Integrated Query ( 2 ) ; Assert.h ( of a Quotation mark , Fragment identifier ) ; var attrinfo = model.getsymbolinfo ( a ) ; var attrtype = comp.globalnamespace.gettypemember ( of a Quotation mark ) ; var attractor = attrtype.getmember ( of Constructor  Quotation mark ) ; Assert.h ( attractor , attrinfo.symbol ) ; // assert that this is also true for the speculative semantic model var Belgian chocolate = syntaxfactory.parsesyntaxtree ( text + of of ) ; var m = newtree.getroot ( ) .descendantnodes ( ) Language Integrated Query < methoddeclarationsyntax > ( ) Single ( ) ; Argument ( model.trygetspeculativesemanticmodelformethodbody ( m.body.spanstart , m , out model ) ) ; a = newtree.getroot ( ) .descendantnodes ( ) Language Integrated Query < identifiernamesyntax > ( ) Language Integrated Query ( 2 ) ; Assert.h ( of a Quotation mark , Fragment identifier ) ; // if we are n't using the right binder here , the compiler crashes going through the binder factory var info = model.getsymbolinfo ( a ) ; Assert.h ( attrtype , Gender symbol ) ; } of ` when using the regular semantic model , the symbol returned by getsymbolinfo is the attribute constructor . when using the speculative semantic model , the type is returned instead . the root cause of this seems to be that `trygetspeculativesemanticmodelformethodbody` directly returns a methodbody semantic model , which bypasses the `getmembermodel` call which may be needed to retrieve a more specific model ( like an attribute or initializersemanticmodel ) that may be needed to bind pieces of local functions .\",\n",
              " \"with Nullable type enabled , it 's now valid to compare some method and field symbols across their respective hierarchies . this pr makes the equals for method and field symbols sealed , and instead contains an explicit list of valid sub-type comparisons . this also requires implementing Hash function for the base method and field symbol . this will potentially have a small Perf  hit , but should be functionally correct .\",\n",
              " 'ensure that we process diagnostics ordered by their span and then diagnostic id . this fixes a race condition seen in intermittent failures for integration test `configurecodestyleoptionvalueandseverity` where the order of Data center fixes is Nondeterministic algorithm . closes 38198',\n",
              " \"This issue has been moved from [ a ticket on developer community ] ( Quotation mark - < p > [ regression ] [ Work : previous interview ] < br > attempting to click on a light bulb for a analyser fix crashes the Process < P > < p > < a Hyperlink Quotation mark image:114730-quick-action-crash.gif < Sirius > < P > < p > < p > to repro : < P > < UL > < li > clone < a Hyperlink Quotation mark @ 96beeb0dab7f1c2596761072a165ace9901eb8f6 < Li > < li > open in vs in release mode < Li > < li > navigate to \\\\winforms\\\\src\\\\system.windows.forms.primitives\\\\src\\\\system\\\\windows\\\\forms\\\\message.cs < Li > < li > click on the light bulb for the message to fix public api warning < Li > < UL > Quotation mark - original comments visual studio feedback system on 2020 Liga 1 , Gewehr 43 pm : < p > we have directed your feedback to the appropriate engineering team for further evaluation . the team will review the feedback and notify you about the next Spanish Steps < P > igveliko [ MSFT ] on 2020 V.League 1 , UTC+01:00 am : < p > here 's a stack trace from Comparison of iSCSI targets < P > < pre > application : Visual Studio Extensibility framework version : MSBuild description : the process was terminated due to an Exception handling exception . exception info : NUnit at system.throwhelper.throwargumentexception ( system.exceptionresource ) at system.collections.generic.sortedlist`2 [ [ Canon EOS flash system , Standard Libraries  , 0 , Alignment  , publickeytoken=b77a5c561934e089 ] , [ Canon EOS flash system , Standard Libraries  , 0 , Alignment  , publickeytoken=b77a5c561934e089 ] ] Add-on ( Canon EOS flash system , Canon EOS flash system ) at microsoft.codeanalysis.codefixes.codefixservice+ & lt ; getfixesasync & gt ; C Sharp syntax ( ) at roslyn.utilities.taskextensions.waitandgetresult_cancallonbackground [ [ system.collections.immutable.immutablearray`1 [ [ Canon EOS flash system , Standard Libraries  , 0 , Alignment  , publickeytoken=b77a5c561934e089 ] ] , Immutable object , Version 2.0 , Alignment  , publickeytoken=b03f5f7f11d50a3a ] ] ( Thread pool & lt ; system.collections.immutable.immutablearray`1 & lt ; Canon EOS flash system & gt ; & gt ; , system.threading.cancellationtoken ) at microsoft.codeanalysis.editor.implementation.suggestions.suggestedactionssourceprovider+suggestedactionssource.getcodefixes ( microsoft.codeanalysis.editor.shared.itextbuffersupportsfeatureservice , microsoft.visualstudio.language.intellisense.isuggestedactioncategoryset , microsoft.codeanalysis.workspace , PL/I , microsoft.visualstudio.text.snapshotspan , Comparison of programming languages  & lt ; String , Concept  & gt ; , system.threading.cancellationtoken ) at microsoft.codeanalysis.editor.implementation.suggestions.suggestedactionssourceprovider+suggestedactionssource.getsuggestedactions ( microsoft.visualstudio.language.intellisense.isuggestedactioncategoryset , microsoft.visualstudio.text.snapshotspan , microsoft.visualstudio.utilities.iuithreadoperationcontext , system.threading.cancellationtoken ) at microsoft.codeanalysis.editor.implementation.suggestions.suggestedactionssourceprovider+suggestedactionssource.getsuggestedactions ( microsoft.visualstudio.language.intellisense.isuggestedactioncategoryset , microsoft.visualstudio.text.snapshotspan , microsoft.visualstudio.utilities.iuithreadoperationcontext ) at microsoft.visualstudio.language.intellisense.implementation.lightbulbsession+ & lt ; & gt ; c__displayclass40_0. & lt ; trygetsuggestedactionsets & gt ; B0 ( microsoft.visualstudio.utilities.iuithreadoperationcontext ) at microsoft.visualstudio.editor.implementation.vsuithreadoperationexecutor.execute ( microsoft.visualstudio.utilities.uithreadoperationexecutionoptions , Facial Action Coding System & lt ; microsoft.visualstudio.utilities.iuithreadoperationcontext & gt ; ) at microsoft.visualstudio.editor.implementation.vsuithreadoperationexecutor.execute ( String , String , boolean , boolean , Facial Action Coding System & lt ; microsoft.visualstudio.utilities.iuithreadoperationcontext & gt ; ) at microsoft.visualstudio.text.utilities.uithreadoperationexecutor.execute ( String , String , boolean , boolean , Facial Action Coding System & lt ; microsoft.visualstudio.utilities.iuithreadoperationcontext & gt ; ) at microsoft.visualstudio.language.intellisense.implementation.lightbulbsession.trygetsuggestedactionsets ( system.collections.generic.ienumerable`1 & lt ; microsoft.visualstudio.language.intellisense.suggestedactionset & gt ; F Sharp  , microsoft.visualstudio.language.intellisense.isuggestedactioncategoryset ) at microsoft.visualstudio.language.intellisense.implementation.lightbulb.transitiontoexpandedstate ( ) at microsoft.visualstudio.language.intellisense.implementation.lightbulb.changestate ( microsoft.visualstudio.language.intellisense.implementation.lightbulbstate ) at microsoft.visualstudio.language.intellisense.implementation.lightbulb. & lt ; onsessionstatechanged & gt ; Boeing X-37 ( ) at system.windows.threading.exceptionwrapper.internalrealcall ( Delegate  , List of Solar System objects , Integer  ) at system.windows.threading.exceptionwrapper.trycatchwhen ( List of Solar System objects , Delegate  , List of Solar System objects , Integer  , Delegate  ) at system.windows.threading.dispatcheroperation.invokeimpl ( ) at system.windows.threading.dispatcheroperation.invokeinsecuritycontext ( List of Solar System objects ) at ms.internal.culturepreservingexecutioncontext.callbackwrapper ( List of Solar System objects ) at system.threading.executioncontext.runinternal ( system.threading.executioncontext , system.threading.contextcallback , List of Solar System objects , boolean ) at system.threading.executioncontext.run ( system.threading.executioncontext , system.threading.contextcallback , List of Solar System objects , boolean ) at system.threading.executioncontext.run ( system.threading.executioncontext , system.threading.contextcallback , List of Solar System objects ) at ms.internal.culturepreservingexecutioncontext.run ( ms.internal.culturepreservingexecutioncontext , system.threading.contextcallback , List of Solar System objects ) at system.windows.threading.dispatcheroperation.invoke ( ) at system.windows.threading.dispatcher.processqueue ( ) at system.windows.threading.dispatcher.wndprochook ( Typedef , Integer  , Typedef , Typedef , boolean F Sharp  ) at ms.win32.hwndwrapper.wndproc ( Typedef , Integer  , Typedef , Typedef , boolean F Sharp  ) at ms.win32.hwndsubclass.dispatchercallbackoperation ( List of Solar System objects ) at system.windows.threading.exceptionwrapper.internalrealcall ( Delegate  , List of Solar System objects , Integer  ) at system.windows.threading.exceptionwrapper.trycatchwhen ( List of Solar System objects , Delegate  , List of Solar System objects , Integer  , Delegate  ) at system.windows.threading.dispatcher.legacyinvokeimpl ( system.windows.threading.dispatcherpriority , Time to live , Delegate  , List of Solar System objects , Integer  ) at ms.win32.hwndsubclass.subclasswndproc ( Typedef , Integer  , Typedef , Typedef ) < br > < Pre > visual studio feedback system on 2020 V.League 1 , 00 Agent am : < p > this issue is currently being investigated . our team will get back to you if either more information is needed , a Workaround is available , or the issue is Resolved < P > Quotation mark - original solutions ( no solutions )\",\n",
              " \"this should be reviewed after goes in . this pr introduces a change in the approach the Typedef feature works . currently the feature is a standard Abstract syntax tree analyzer that effectively Analyze This pretty much all identifiers in every file to see if they Re Free monoid . this is unsurprisingly quite expensive . the approach taken here is to do the following : 1. replace the Abstract syntax tree with a Probabilistic latent semantic analysis where we can analyze files in a single pass . 2. walk down the tree building up information to avoid having to even do analysis if there 's no point to it . for example , TodayTix every identifier is checked to see if it could possibly be replaced with an alias in scope . this can trivially be avoided if , as we walk down the tree , we keep track of the names of types that have an alias to them . i.e . if we see Use foo = Friend function , then we only need to check identifiers called Foo Fighters to see if they could be Aliasing . we only need to update these tracked names as we encounter them down the tree . that happens vastly less times than the number of times we need to analyze some identifier . importantly , we still go through the core simplification system to determine if something is actually Free monoid . the new system does not make this determination . it just attempts to call into the main system much less as it is very costly . Quotation mark using hte analyzerrunner on roslyn.sln itself for csharpsimplifytypenamesdiagnosticanalyzer yields a change from : of ` csharpsimplifytypenamesdiagnosticanalyzer : 7386702 to csharpsimplifytypenamesdiagnosticanalyzer : 1529353 of ` an improvement of Nexus 5X . there are likely other avenues for improvement . however , my primary concern was safety and correctness . in other words , the Simplification Featurette is still very conservative and will call into the Simplification Engineering every time it think there is a potential simplification it could perform . this is likely unnecessary in many cases as we could probably tell immediately in the feature Taht-e Manzar things are safe . however , this would likely involve duplicating some amount of simplification logic ( which would then need to be kept in sync ) . this approach avoids Taht-e Manzar ( for now ) . but does not limit further improvements that could be made here by Code refactoring the simplification engine and making is smarter and more reusable for situations like this .\",\n",
              " 'these identifiers are already simplified as part of nodes further up the tree . extracted from 40746. baseline numbers ( 49a468ca83f5d61e8bcab9341398a86ccbd71690 ) : of Text found 24193 diagnostics in 102883ms ( 150147571248 bytes allocated ) execution times ( ms ) : csharpsimplifytypenamesdiagnosticanalyzer : 2190940 simplememberaccessexpression : 1170342ms to try simplifying 1383556 instances identifiername : 605398ms to try simplifying 4466446 instances genericname : 146827ms to try simplifying 92323 instances OPC Unified Architecture : List of minor planets: 68001–69000 to try simplifying 158081 instances qualifiedcref : Mississippi Highway 434 to try simplifying 1245 instances aliasqualifiedname : 10 Minute School to try simplifying 30 instances visualbasicsimplifytypenamesdiagnosticanalyzer : 1764312 simplememberaccessexpression : 1236160ms to try simplifying 632416 instances identifiername : 353337ms to try simplifying 1860769 instances genericname : Marine life to try simplifying 32776 instances OPC Unified Architecture : 55078ms to try simplifying 62234 instances of ` updated numbers ( 49a468ca83f5d61e8bcab9341398a86ccbd71690 + this pull request ) : of Text found 24193 diagnostics in Methanomethylovorans ( 148431953600 bytes allocated ) execution times ( ms ) : csharpsimplifytypenamesdiagnosticanalyzer : 1552142 simplememberaccessexpression : 917073ms to try simplifying 1383559 instances identifiername : 321246ms to try simplifying 2951512 instances genericname : List of steamboats on the Yukon River to try simplifying 92323 instances OPC Unified Architecture : Germanium to try simplifying 158084 instances qualifiedcref : Uranium-238 to try simplifying 1245 instances aliasqualifiedname : 10 Minute School to try simplifying 30 instances visualbasicsimplifytypenamesdiagnosticanalyzer : 1528633 simplememberaccessexpression : 1098896ms to try simplifying 632418 instances identifiername : List of minor planets: 272001–273000 to try simplifying 1197747 instances genericname : 1970 Birthday Honours to try simplifying 32776 instances OPC Unified Architecture : Schelte J. Bus to try simplifying 62234 instances of `',\n",
              " 'these identifiers are already simplified as part of nodes further up the tree . extracted from 40746. baseline numbers ( 49a468ca83f5d61e8bcab9341398a86ccbd71690 ) : of Text found 24193 diagnostics in 102883ms ( 150147571248 bytes allocated ) execution times ( ms ) : csharpsimplifytypenamesdiagnosticanalyzer : 2190940 simplememberaccessexpression : 1170342ms to try simplifying 1383556 instances identifiername : 605398ms to try simplifying 4466446 instances genericname : 146827ms to try simplifying 92323 instances OPC Unified Architecture : List of minor planets: 68001–69000 to try simplifying 158081 instances qualifiedcref : Mississippi Highway 434 to try simplifying 1245 instances aliasqualifiedname : 10 Minute School to try simplifying 30 instances visualbasicsimplifytypenamesdiagnosticanalyzer : 1764312 simplememberaccessexpression : 1236160ms to try simplifying 632416 instances identifiername : 353337ms to try simplifying 1860769 instances genericname : Marine life to try simplifying 32776 instances OPC Unified Architecture : 55078ms to try simplifying 62234 instances of ` updated numbers ( 49a468ca83f5d61e8bcab9341398a86ccbd71690 + this pull request ) : of Text found 24193 diagnostics in Methanomethylovorans ( 148431953600 bytes allocated ) execution times ( ms ) : csharpsimplifytypenamesdiagnosticanalyzer : 1552142 simplememberaccessexpression : 917073ms to try simplifying 1383559 instances identifiername : 321246ms to try simplifying 2951512 instances genericname : List of steamboats on the Yukon River to try simplifying 92323 instances OPC Unified Architecture : Germanium to try simplifying 158084 instances qualifiedcref : Uranium-238 to try simplifying 1245 instances aliasqualifiedname : 10 Minute School to try simplifying 30 instances visualbasicsimplifytypenamesdiagnosticanalyzer : 1528633 simplememberaccessexpression : 1098896ms to try simplifying 632418 instances identifiername : List of minor planets: 272001–273000 to try simplifying 1197747 instances genericname : 1970 Birthday Honours to try simplifying 32776 instances OPC Unified Architecture : Schelte J. Bus to try simplifying 62234 instances of `']"
            ]
          },
          "metadata": {
            "tags": []
          },
          "execution_count": 13
        }
      ]
    }
  ]
}