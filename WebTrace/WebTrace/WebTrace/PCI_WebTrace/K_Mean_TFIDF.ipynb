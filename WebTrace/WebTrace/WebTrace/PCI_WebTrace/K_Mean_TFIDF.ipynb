{
  "nbformat": 4,
  "nbformat_minor": 0,
  "metadata": {
    "colab": {
      "name": "K-Mean_TFIDF.ipynb",
      "provenance": [],
      "collapsed_sections": []
    },
    "kernelspec": {
      "name": "python3",
      "display_name": "Python 3"
    }
  },
  "cells": [
    {
      "cell_type": "code",
      "metadata": {
        "id": "QoDqzXIbjfXF",
        "colab_type": "code",
        "outputId": "1e7a242a-5037-4275-b9bf-6b874d652b6d",
        "colab": {
          "base_uri": "https://localhost:8080/",
          "height": 493
        }
      },
      "source": [
        "from sklearn.feature_extraction.text import TfidfVectorizer\n",
        "from sklearn.cluster import KMeans\n",
        "from sklearn.metrics import adjusted_rand_score\n",
        "\n",
        "documents = [\n",
        "    \"Visual Studio 2019 crashing when click RMB on rule in Analyzers' dependencies\",#https://github.com/dotnet/roslyn/issues/40720\n",
        "    \"Avoid crash on concat on structs with ToString member\", #https://github.com/dotnet/roslyn/pull/38860/commits\n",
        "    \"Enum implicit cast to string fails when element is named ToString\", #https://github.com/dotnet/roslyn/issues/40256\n",
        "    \"Enum with ToString member crashes in string concatenation\", #https://github.com/dotnet/roslyn/issues/38858   \n",
        "    \"Crash on right click a Analyze rule in Solution-Explorer\", #https://github.com/dotnet/roslyn/issues/36304\n",
        "    \"Handle lazy loading of analyzer command handlers\", #https://github.com/dotnet/roslyn/pull/36740\n",
        "]\n",
        "\n",
        "vectorizer = TfidfVectorizer(stop_words='english')\n",
        "X = vectorizer.fit_transform(documents)\n",
        "\n",
        "true_k = 2\n",
        "model = KMeans(n_clusters=true_k, init='k-means++', max_iter=100, n_init=1)\n",
        "model.fit(X)\n",
        "\n",
        "print(\"Top terms per cluster:\")\n",
        "order_centroids = model.cluster_centers_.argsort()[:, ::-1]\n",
        "terms = vectorizer.get_feature_names()\n",
        "for i in range(true_k):\n",
        "    print(\"Cluster %d:\" % i),\n",
        "    for ind in order_centroids[i, :10]:\n",
        "        print(' %s' % terms[ind]),\n",
        "    print\n",
        "\n",
        "print(\"\\n\")\n",
        "print(\"Prediction\")\n",
        "\n",
        "Y = vectorizer.transform([\"Avoid crash on concat on structs with ToString member\"])\n",
        "prediction = model.predict(Y)\n",
        "print(prediction)\n",
        "\n",
        "Y = vectorizer.transform([\"Visual Studio 2019 crashing when click RMB on rule in Analyzers' dependencies\"])\n",
        "prediction = model.predict(Y)\n",
        "print(prediction)\n",
        " "
      ],
      "execution_count": 0,
      "outputs": [
        {
          "output_type": "stream",
          "text": [
            "Top terms per cluster:\n",
            "Cluster 0:\n",
            " rule\n",
            " click\n",
            " handle\n",
            " analyzer\n",
            " command\n",
            " loading\n",
            " lazy\n",
            " handlers\n",
            " explorer\n",
            " analyze\n",
            "Cluster 1:\n",
            " tostring\n",
            " member\n",
            " string\n",
            " enum\n",
            " crashes\n",
            " concatenation\n",
            " concat\n",
            " structs\n",
            " avoid\n",
            " element\n",
            "\n",
            "\n",
            "Prediction\n",
            "[1]\n",
            "[0]\n"
          ],
          "name": "stdout"
        }
      ]
    }
  ]
}